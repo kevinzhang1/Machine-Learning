{
  "nbformat": 4,
  "nbformat_minor": 0,
  "metadata": {
    "kernelspec": {
      "display_name": "Python 3",
      "language": "python",
      "name": "python3"
    },
    "language_info": {
      "codemirror_mode": {
        "name": "ipython",
        "version": 3
      },
      "file_extension": ".py",
      "mimetype": "text/x-python",
      "name": "python",
      "nbconvert_exporter": "python",
      "pygments_lexer": "ipython3",
      "version": "3.7.3"
    },
    "colab": {
      "name": "hw1problem7.ipynb",
      "provenance": []
    }
  },
  "cells": [
    {
      "cell_type": "markdown",
      "metadata": {
        "id": "SfI9oQxRT711"
      },
      "source": [
        "Kevin Zhang"
      ]
    },
    {
      "cell_type": "markdown",
      "metadata": {
        "id": "a6Uc9dln0GY4"
      },
      "source": [
        "1. What are the two most common supervised tasks? Logistic regression and classification Are the two most common supervised tasks. "
      ]
    },
    {
      "cell_type": "markdown",
      "metadata": {
        "id": "IIdmRMeR0QvC"
      },
      "source": [
        "2. What are four common unsupervised tasks? Clustering, visualization, dimensionality reduction, and Association rule learning. "
      ]
    },
    {
      "cell_type": "markdown",
      "metadata": {
        "id": "h6ry6DpJ0TKi"
      },
      "source": [
        "3. What is the difference between a model parameter and a learning algorithm’s hyperparameter? A model parameter is meant to serve as a characteristic of a model in which it's possible to define certain systems within that model while a hyperparameter is a parameter that is specifically meant to deal with a learning algorithm. So therefore, while both are technically parameters, a model parameter specifically deals with models, while a hyperparameter deals with a learning algorithm."
      ]
    },
    {
      "cell_type": "markdown",
      "metadata": {
        "id": "EPKntWXD0VPL"
      },
      "source": [
        "4. What is a test set, and why would you want to use it? A test set is a set that is used to test the performance of a model. We would want to use the test set if we want to evaluate the performance of a model and also if we want to find out the generalization error. That way, we can get a good sense of how the model would perform if we use it on a real data set.  "
      ]
    },
    {
      "cell_type": "markdown",
      "metadata": {
        "id": "IiWX4Fo40V_S"
      },
      "source": [
        "5. What is the purpose of a validation set? A validation set is the part of the training set that is held out to evaluate candidate models in an attempt to find the best one. When a person is trying to find the best model to use, they first test the models on a reduced training set, which is basically the full training set minus the validation set. Next, they test the models on the validation set to produce the best candidates. Finally, they test the models on the full training set to produce the best model to use. \n",
        "\n"
      ]
    },
    {
      "cell_type": "markdown",
      "metadata": {
        "id": "4lb5Y1BX0Wk6"
      },
      "source": [
        "6. What can go wrong if you tune hyperparameters using the test set? If you tune hyperparameters using the data set, you run the risk of choosing a model that is the best candidate for the test set, but not good for practical use in the real world. By choosing only the best candidate model for that particular test set, you are effectively ignoring how well the model would perform if it was used in practical applications. "
      ]
    },
    {
      "cell_type": "code",
      "metadata": {
        "id": "rOfkRY0b936V"
      },
      "source": [
        "import numpy as np"
      ],
      "execution_count": null,
      "outputs": []
    },
    {
      "cell_type": "markdown",
      "metadata": {
        "id": "LoS2Qx6k936c"
      },
      "source": [
        "Task: create a normalized form of the following data set (accessed through UCI Machine Learning Repository) whose values range exactly between 0 and 1 so that the minimum has value 0 and maximum has value 1."
      ]
    },
    {
      "cell_type": "code",
      "metadata": {
        "id": "w-6BveJw936d"
      },
      "source": [
        "# Load the data \n",
        "url = 'https://archive.ics.uci.edu/ml/machine-learning-databases/iris/iris.data'\n",
        "data = np.genfromtxt(url, delimiter=',', dtype='float', usecols=[0])"
      ],
      "execution_count": null,
      "outputs": []
    },
    {
      "cell_type": "code",
      "metadata": {
        "id": "W6x4lTij936i",
        "colab": {
          "base_uri": "https://localhost:8080/",
          "height": 34
        },
        "outputId": "0ddb914f-62b4-471d-b3e4-9dc413e6c762"
      },
      "source": [
        "# Find the maximum and minimum values of data and print them: Smax and Smin\n",
        "Smax = np.max(data)\n",
        "Smin = np.min(data)\n",
        "print(Smax, Smin)"
      ],
      "execution_count": null,
      "outputs": [
        {
          "output_type": "stream",
          "text": [
            "7.9 4.3\n"
          ],
          "name": "stdout"
        }
      ]
    },
    {
      "cell_type": "code",
      "metadata": {
        "scrolled": true,
        "id": "K0B0dyde936n",
        "colab": {
          "base_uri": "https://localhost:8080/",
          "height": 437
        },
        "outputId": "6a9dc029-6888-46fa-a4bc-0f66e925a5fc"
      },
      "source": [
        "# Use (x - Smin)/(Smax - Smin) to normalize the data \n",
        "data_preprocessed = (data - Smin)/(Smax-Smin)\n",
        "print(data_preprocessed)"
      ],
      "execution_count": null,
      "outputs": [
        {
          "output_type": "stream",
          "text": [
            "[0.22222222 0.16666667 0.11111111 0.08333333 0.19444444 0.30555556\n",
            " 0.08333333 0.19444444 0.02777778 0.16666667 0.30555556 0.13888889\n",
            " 0.13888889 0.         0.41666667 0.38888889 0.30555556 0.22222222\n",
            " 0.38888889 0.22222222 0.30555556 0.22222222 0.08333333 0.22222222\n",
            " 0.13888889 0.19444444 0.19444444 0.25       0.25       0.11111111\n",
            " 0.13888889 0.30555556 0.25       0.33333333 0.16666667 0.19444444\n",
            " 0.33333333 0.16666667 0.02777778 0.22222222 0.19444444 0.05555556\n",
            " 0.02777778 0.19444444 0.22222222 0.13888889 0.22222222 0.08333333\n",
            " 0.27777778 0.19444444 0.75       0.58333333 0.72222222 0.33333333\n",
            " 0.61111111 0.38888889 0.55555556 0.16666667 0.63888889 0.25\n",
            " 0.19444444 0.44444444 0.47222222 0.5        0.36111111 0.66666667\n",
            " 0.36111111 0.41666667 0.52777778 0.36111111 0.44444444 0.5\n",
            " 0.55555556 0.5        0.58333333 0.63888889 0.69444444 0.66666667\n",
            " 0.47222222 0.38888889 0.33333333 0.33333333 0.41666667 0.47222222\n",
            " 0.30555556 0.47222222 0.66666667 0.55555556 0.36111111 0.33333333\n",
            " 0.33333333 0.5        0.41666667 0.19444444 0.36111111 0.38888889\n",
            " 0.38888889 0.52777778 0.22222222 0.38888889 0.55555556 0.41666667\n",
            " 0.77777778 0.55555556 0.61111111 0.91666667 0.16666667 0.83333333\n",
            " 0.66666667 0.80555556 0.61111111 0.58333333 0.69444444 0.38888889\n",
            " 0.41666667 0.58333333 0.61111111 0.94444444 0.94444444 0.47222222\n",
            " 0.72222222 0.36111111 0.94444444 0.55555556 0.66666667 0.80555556\n",
            " 0.52777778 0.5        0.58333333 0.80555556 0.86111111 1.\n",
            " 0.58333333 0.55555556 0.5        0.94444444 0.55555556 0.58333333\n",
            " 0.47222222 0.72222222 0.66666667 0.72222222 0.41666667 0.69444444\n",
            " 0.66666667 0.66666667 0.55555556 0.61111111 0.52777778 0.44444444]\n"
          ],
          "name": "stdout"
        }
      ]
    },
    {
      "cell_type": "markdown",
      "metadata": {
        "id": "XjpnZftD936u"
      },
      "source": [
        "After writing your own code, we like to confirm that built-in functions in Scikit-Learn provide identical results. There are at least two techniques for normalizing the data using *sklearn.preprocessing*."
      ]
    },
    {
      "cell_type": "code",
      "metadata": {
        "id": "3N7nQvXK936u",
        "colab": {
          "base_uri": "https://localhost:8080/",
          "height": 437
        },
        "outputId": "c1b74738-0d4c-41cf-f0f2-c575d11836ed"
      },
      "source": [
        "# Technique 1: using minmax_scale \n",
        "from sklearn.preprocessing import minmax_scale\n",
        "data_preprocessed2 = minmax_scale(data)\n",
        "print(data_preprocessed2)"
      ],
      "execution_count": null,
      "outputs": [
        {
          "output_type": "stream",
          "text": [
            "[0.22222222 0.16666667 0.11111111 0.08333333 0.19444444 0.30555556\n",
            " 0.08333333 0.19444444 0.02777778 0.16666667 0.30555556 0.13888889\n",
            " 0.13888889 0.         0.41666667 0.38888889 0.30555556 0.22222222\n",
            " 0.38888889 0.22222222 0.30555556 0.22222222 0.08333333 0.22222222\n",
            " 0.13888889 0.19444444 0.19444444 0.25       0.25       0.11111111\n",
            " 0.13888889 0.30555556 0.25       0.33333333 0.16666667 0.19444444\n",
            " 0.33333333 0.16666667 0.02777778 0.22222222 0.19444444 0.05555556\n",
            " 0.02777778 0.19444444 0.22222222 0.13888889 0.22222222 0.08333333\n",
            " 0.27777778 0.19444444 0.75       0.58333333 0.72222222 0.33333333\n",
            " 0.61111111 0.38888889 0.55555556 0.16666667 0.63888889 0.25\n",
            " 0.19444444 0.44444444 0.47222222 0.5        0.36111111 0.66666667\n",
            " 0.36111111 0.41666667 0.52777778 0.36111111 0.44444444 0.5\n",
            " 0.55555556 0.5        0.58333333 0.63888889 0.69444444 0.66666667\n",
            " 0.47222222 0.38888889 0.33333333 0.33333333 0.41666667 0.47222222\n",
            " 0.30555556 0.47222222 0.66666667 0.55555556 0.36111111 0.33333333\n",
            " 0.33333333 0.5        0.41666667 0.19444444 0.36111111 0.38888889\n",
            " 0.38888889 0.52777778 0.22222222 0.38888889 0.55555556 0.41666667\n",
            " 0.77777778 0.55555556 0.61111111 0.91666667 0.16666667 0.83333333\n",
            " 0.66666667 0.80555556 0.61111111 0.58333333 0.69444444 0.38888889\n",
            " 0.41666667 0.58333333 0.61111111 0.94444444 0.94444444 0.47222222\n",
            " 0.72222222 0.36111111 0.94444444 0.55555556 0.66666667 0.80555556\n",
            " 0.52777778 0.5        0.58333333 0.80555556 0.86111111 1.\n",
            " 0.58333333 0.55555556 0.5        0.94444444 0.55555556 0.58333333\n",
            " 0.47222222 0.72222222 0.66666667 0.72222222 0.41666667 0.69444444\n",
            " 0.66666667 0.66666667 0.55555556 0.61111111 0.52777778 0.44444444]\n"
          ],
          "name": "stdout"
        }
      ]
    },
    {
      "cell_type": "code",
      "metadata": {
        "id": "9DpNO9s89360"
      },
      "source": [
        "# Technique 2: using the``Transformer`` API MinMaxScaler \n",
        "from sklearn.preprocessing import MinMaxScaler\n",
        "scaler = MinMaxScaler()\n",
        "data_preprocessed3 = scaler.fit_transform(data)"
      ],
      "execution_count": null,
      "outputs": []
    },
    {
      "cell_type": "markdown",
      "metadata": {
        "id": "SLPsYtjE9365"
      },
      "source": [
        "You probably got an error message. Please read this message and see how you can fix it. \n",
        "It looks like this error has to do something with the shape of *data* (1D vs 2D).\n",
        "Please reshape *data* and make sure that the final normalized version has the same shape as *data_preprocessed* above. "
      ]
    },
    {
      "cell_type": "code",
      "metadata": {
        "id": "wAYJLWIe9368",
        "colab": {
          "base_uri": "https://localhost:8080/",
          "height": 437
        },
        "outputId": "8aaeaf61-7053-4996-992c-958ae99bdf54"
      },
      "source": [
        "# Technique 2: using the``Transformer`` API MinMaxScaler \n",
        "from sklearn.preprocessing import MinMaxScaler\n",
        "scaler = MinMaxScaler()\n",
        "reshaped=np.reshape(data, (25, 6))\n",
        "data_preprocessed3 = scaler.fit_transform(reshaped)\n",
        "print(data_preprocessed3)"
      ],
      "execution_count": null,
      "outputs": [
        {
          "output_type": "stream",
          "text": [
            "[[0.25925926 0.20689655 0.09090909 0.         0.12903226 0.26470588]\n",
            " [0.07407407 0.24137931 0.         0.09677419 0.25806452 0.08823529]\n",
            " [0.14814815 0.         0.42424242 0.35483871 0.25806452 0.17647059]\n",
            " [0.48148148 0.27586207 0.3030303  0.16129032 0.         0.17647059]\n",
            " [0.14814815 0.24137931 0.18181818 0.19354839 0.19354839 0.05882353]\n",
            " [0.14814815 0.37931034 0.24242424 0.29032258 0.09677419 0.14705882]\n",
            " [0.40740741 0.20689655 0.         0.16129032 0.12903226 0.        ]\n",
            " [0.         0.24137931 0.21212121 0.06451613 0.16129032 0.02941176]\n",
            " [0.33333333 0.24137931 0.78787879 0.58064516 0.74193548 0.29411765]\n",
            " [0.77777778 0.48275862 0.57575758 0.09677419 0.64516129 0.20588235]\n",
            " [0.22222222 0.55172414 0.48484848 0.48387097 0.32258065 0.64705882]\n",
            " [0.44444444 0.51724138 0.54545455 0.32258065 0.41935484 0.47058824]\n",
            " [0.7037037  0.62068966 0.60606061 0.64516129 0.70967742 0.64705882]\n",
            " [0.59259259 0.48275862 0.33333333 0.29032258 0.38709677 0.44117647]\n",
            " [0.37037037 0.5862069  0.6969697  0.5483871  0.32258065 0.29411765]\n",
            " [0.40740741 0.62068966 0.42424242 0.12903226 0.32258065 0.35294118]\n",
            " [0.48148148 0.65517241 0.21212121 0.35483871 0.5483871  0.38235294]\n",
            " [1.         0.68965517 0.63636364 0.96774194 0.09677419 0.82352941]\n",
            " [0.85185185 1.         0.63636364 0.58064516 0.70967742 0.35294118]\n",
            " [0.51851852 0.72413793 0.63636364 1.         1.         0.44117647]\n",
            " [0.92592593 0.44827586 1.         0.5483871  0.67741935 0.79411765]\n",
            " [0.66666667 0.62068966 0.60606061 0.83870968 0.90322581 1.        ]\n",
            " [0.74074074 0.68965517 0.51515152 1.         0.5483871  0.55882353]\n",
            " [0.59259259 0.89655172 0.6969697  0.74193548 0.38709677 0.67647059]\n",
            " [0.85185185 0.82758621 0.57575758 0.61290323 0.51612903 0.41176471]]\n"
          ],
          "name": "stdout"
        }
      ]
    }
  ]
}