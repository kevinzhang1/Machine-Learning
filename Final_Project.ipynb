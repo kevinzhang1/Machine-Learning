{
  "nbformat": 4,
  "nbformat_minor": 0,
  "metadata": {
    "colab": {
      "name": "Final Project",
      "provenance": []
    },
    "kernelspec": {
      "name": "python3",
      "display_name": "Python 3"
    }
  },
  "cells": [
    {
      "cell_type": "markdown",
      "metadata": {
        "id": "p0b5ecaRIJBj"
      },
      "source": [
        "Name: Kevin Zhang\n"
      ]
    },
    {
      "cell_type": "markdown",
      "metadata": {
        "id": "HOMQNqoZJEgj"
      },
      "source": [
        "**Final Project**"
      ]
    },
    {
      "cell_type": "markdown",
      "metadata": {
        "id": "AN1ZYu3i0ZwF"
      },
      "source": [
        "I went onto the website that the data came from and I found the following attribute information. (This is copied and pasted from the website itself)\r\n",
        "\r\n",
        "Attribute Information:\r\n",
        "\r\n",
        "1. mpg: continuous\r\n",
        "2. cylinders: multi-valued discrete\r\n",
        "3. displacement: continuous\r\n",
        "4. horsepower: continuous\r\n",
        "5. weight: continuous\r\n",
        "6. acceleration: continuous\r\n",
        "7. model year: multi-valued discrete\r\n",
        "8. origin: multi-valued discrete\r\n",
        "9. car name: string (unique for each instance)\r\n",
        "\r\n",
        "https://archive.ics.uci.edu/ml/datasets/Auto%2BMPG"
      ]
    },
    {
      "cell_type": "markdown",
      "metadata": {
        "id": "O8tPQ3cp0kzc"
      },
      "source": [
        "For the two traditional machine learning algorithms that I have chosen, I couldn't really do a polynomial regression or any other regressions other than linear regression for the data since the data set wasn't suitable for it, so instead I used linear regression twice for different aspects of the data set. For the neural network, I wanted to do a regression MLP with sequential API, but it seemed that the data wasn't suitable for that either."
      ]
    },
    {
      "cell_type": "markdown",
      "metadata": {
        "id": "TikSl6rf2Eat"
      },
      "source": [
        "Here I import the numpy, mathplot, and Panda libraries."
      ]
    },
    {
      "cell_type": "code",
      "metadata": {
        "id": "NufErlXi55TU"
      },
      "source": [
        "import numpy as np\r\n",
        "import matplotlib.pyplot as plt\r\n",
        "import pandas as pd"
      ],
      "execution_count": null,
      "outputs": []
    },
    {
      "cell_type": "markdown",
      "metadata": {
        "id": "2EokG67k2O0u"
      },
      "source": [
        "I have chosen the regression dataset to be the data set that I am using for this final project. First, I needed to collect the data from the URL, next I needed to generate an array from the data, and then reshape it"
      ]
    },
    {
      "cell_type": "code",
      "metadata": {
        "id": "VVQriuIR5zLK",
        "colab": {
          "base_uri": "https://localhost:8080/"
        },
        "outputId": "49c65a66-a8cd-44e4-953e-7ac8724909da"
      },
      "source": [
        "url = 'http://archive.ics.uci.edu/ml/machine-learning-databases/auto-mpg/auto-mpg.data'\r\n",
        "data = np.genfromtxt(url, delimiter=',', dtype=None, usecols=[0])\r\n",
        "data=data.reshape(398,1)"
      ],
      "execution_count": null,
      "outputs": [
        {
          "output_type": "stream",
          "text": [
            "/usr/local/lib/python3.6/dist-packages/ipykernel_launcher.py:2: VisibleDeprecationWarning: Reading unicode strings without specifying the encoding argument is deprecated. Set the encoding, use None for the system default.\n",
            "  \n"
          ],
          "name": "stderr"
        }
      ]
    },
    {
      "cell_type": "markdown",
      "metadata": {
        "id": "_BHB_Hwx2od0"
      },
      "source": [
        "Unfortunately, the data set that was imported in had data encoded in the form of numpy.bytes objects so first I had to create a for loop that first converts the objects into strings and then do a split string that splits up the string into its individual data components."
      ]
    },
    {
      "cell_type": "code",
      "metadata": {
        "id": "40CJ7jPPDJwq"
      },
      "source": [
        "n = []\r\n",
        "for x in range(0, 398):\r\n",
        "  nn=data[x][0].decode('UTF-8').split()\r\n",
        "  n.append(nn)"
      ],
      "execution_count": null,
      "outputs": []
    },
    {
      "cell_type": "markdown",
      "metadata": {
        "id": "RwCDZ47c3m45"
      },
      "source": [
        "For some reason, I was unable to create a two-dimensional numpy array after splitting the data components so therefore I had to transfer the columns of data that I'm going to use into a regular python list. I used a for Loop to copy all the data in. Next, I converted the lists into numpy arrays so that I can perform operations on it using functions designed for numpy arrays. Here I decided to use the second (cylinders) and third column (displacement) for linear regression analysis."
      ]
    },
    {
      "cell_type": "code",
      "metadata": {
        "id": "pmw_6wWp6ybo"
      },
      "source": [
        "A = [None] * 398 \r\n",
        "B = [None] * 398 \r\n",
        "for i in range(0, 398):\r\n",
        "  A[i]=int(n[i][1])\r\n",
        "  B[i]=float(n[i][2])\r\n",
        "X = np.array(A)\r\n",
        "y = np.array(B)"
      ],
      "execution_count": null,
      "outputs": []
    },
    {
      "cell_type": "markdown",
      "metadata": {
        "id": "IeslfCoLZv1E"
      },
      "source": [
        "Here I split the data set into training set (70%) and test set (30%) using the train_test_split method."
      ]
    },
    {
      "cell_type": "code",
      "metadata": {
        "id": "cpSu4XyhY4NN"
      },
      "source": [
        "from sklearn.model_selection import train_test_split\r\n",
        "x_train, x_test, y_train, y_test = train_test_split(X, y, test_size = 0.3)"
      ],
      "execution_count": null,
      "outputs": []
    },
    {
      "cell_type": "markdown",
      "metadata": {
        "id": "2lDvUaVW_w8G"
      },
      "source": [
        "I create a linear regression object and train the model using the training sets (after they have been reshaped)."
      ]
    },
    {
      "cell_type": "code",
      "metadata": {
        "colab": {
          "base_uri": "https://localhost:8080/"
        },
        "id": "kswvFGeH6Wig",
        "outputId": "26fb4247-e10b-4d0e-f820-f146b9386bcd"
      },
      "source": [
        "from sklearn import datasets, linear_model\r\n",
        "regr = linear_model.LinearRegression()\r\n",
        "regr.fit(x_train.reshape(-1, 1), y_train.reshape(-1, 1))"
      ],
      "execution_count": null,
      "outputs": [
        {
          "output_type": "execute_result",
          "data": {
            "text/plain": [
              "LinearRegression(copy_X=True, fit_intercept=True, n_jobs=None, normalize=False)"
            ]
          },
          "metadata": {
            "tags": []
          },
          "execution_count": 148
        }
      ]
    },
    {
      "cell_type": "markdown",
      "metadata": {
        "id": "to9Lm2FiALPy"
      },
      "source": [
        "Predictions are made using the testing sets and assigned to variables accordingly."
      ]
    },
    {
      "cell_type": "code",
      "metadata": {
        "id": "O6Y8OUVGdDi4"
      },
      "source": [
        "y_pred = regr.predict(y_test.reshape(-1, 1))\r\n",
        "x_pred = regr.predict(x_test.reshape(-1, 1))"
      ],
      "execution_count": null,
      "outputs": []
    },
    {
      "cell_type": "markdown",
      "metadata": {
        "id": "M9BSiE046t1A"
      },
      "source": [
        "I initialize variables to hold the regression coefficient and intercept and print out both variables."
      ]
    },
    {
      "cell_type": "code",
      "metadata": {
        "colab": {
          "base_uri": "https://localhost:8080/"
        },
        "id": "L53dTM0zdOjY",
        "outputId": "a5a79855-2008-460e-a817-3a8696847350"
      },
      "source": [
        "coefficients = regr.coef_\r\n",
        "intercept = regr.intercept_\r\n",
        "print(coefficients)\r\n",
        "print(intercept)"
      ],
      "execution_count": null,
      "outputs": [
        {
          "output_type": "stream",
          "text": [
            "[[57.35817391]]\n",
            "[-119.65727494]\n"
          ],
          "name": "stdout"
        }
      ]
    },
    {
      "cell_type": "markdown",
      "metadata": {
        "id": "uBej2Pnwljpc"
      },
      "source": [
        "Here I plot a scatter plot using the test variables, in addition, this includes a regression line, a linear line of best fit that goes through the data. The X and Y axis are labeled accordingly. The scatterplot below shows a huge positive correlation between the number of cylinders a vehicle has and its displacement. This doesn't necessarily mean that the number of cylinders directly causes its displacement to increase because correlation does not imply causation, but it does show that on average, larger amounts of cylinders are associated with higher displacement. Based on viewing the graph, I can tell that the regression line is accurate in being a line of best fit."
      ]
    },
    {
      "cell_type": "code",
      "metadata": {
        "colab": {
          "base_uri": "https://localhost:8080/",
          "height": 296
        },
        "id": "-Cj2r_KydgLF",
        "outputId": "14e2750b-e41c-42d3-9414-c8acc2ec0752"
      },
      "source": [
        "plt.scatter(x_test, y_test)\r\n",
        "y=coefficients*[3, 8]+intercept\r\n",
        "plt.plot([3, 8], y[0])\r\n",
        "plt.xlabel('cylinders')\r\n",
        "plt.ylabel('displacement')"
      ],
      "execution_count": null,
      "outputs": [
        {
          "output_type": "execute_result",
          "data": {
            "text/plain": [
              "Text(0, 0.5, 'displacement')"
            ]
          },
          "metadata": {
            "tags": []
          },
          "execution_count": 151
        },
        {
          "output_type": "display_data",
          "data": {
            "image/png": "[encoded data removed]",
            "text/plain": [
              "<Figure size 432x288 with 1 Axes>"
            ]
          },
          "metadata": {
            "tags": [],
            "needs_background": "light"
          }
        }
      ]
    },
    {
      "cell_type": "markdown",
      "metadata": {
        "id": "iLVu_r_gAb4d"
      },
      "source": [
        "I am using the third column (displacement) and fifth column (weight) for linear regression analysis."
      ]
    },
    {
      "cell_type": "code",
      "metadata": {
        "id": "MwoopEXfncZe"
      },
      "source": [
        "A = [None] * 398 \r\n",
        "B = [None] * 398 \r\n",
        "for i in range(0, 398):\r\n",
        "  A[i]=float(n[i][2])\r\n",
        "  B[i]=float(n[i][4])\r\n",
        "X = np.array(A)\r\n",
        "y = np.array(B)"
      ],
      "execution_count": null,
      "outputs": []
    },
    {
      "cell_type": "markdown",
      "metadata": {
        "id": "jhzVO4nHAyGD"
      },
      "source": [
        "Here I split the data set into training set (70%) and test set (30%) using the train_test_split method."
      ]
    },
    {
      "cell_type": "code",
      "metadata": {
        "id": "niA-AI1ANhHt"
      },
      "source": [
        "from sklearn.model_selection import train_test_split\r\n",
        "x_train, x_test, y_train, y_test = train_test_split(X, y, test_size = 0.3)"
      ],
      "execution_count": null,
      "outputs": []
    },
    {
      "cell_type": "markdown",
      "metadata": {
        "id": "OfKvO-xEAzHz"
      },
      "source": [
        "I create a linear regression object and train the model using the training sets (after they have been reshaped)."
      ]
    },
    {
      "cell_type": "code",
      "metadata": {
        "colab": {
          "base_uri": "https://localhost:8080/"
        },
        "id": "Q__Rrc_XKDjA",
        "outputId": "15ad80d9-1284-40ea-8ca8-0d457d32d3f0"
      },
      "source": [
        "from sklearn import datasets, linear_model\r\n",
        "regr = linear_model.LinearRegression()\r\n",
        "regr.fit(x_train.reshape(-1, 1), y_train.reshape(-1, 1))"
      ],
      "execution_count": null,
      "outputs": [
        {
          "output_type": "execute_result",
          "data": {
            "text/plain": [
              "LinearRegression(copy_X=True, fit_intercept=True, n_jobs=None, normalize=False)"
            ]
          },
          "metadata": {
            "tags": []
          },
          "execution_count": 154
        }
      ]
    },
    {
      "cell_type": "markdown",
      "metadata": {
        "id": "jGTAnEJJA0HL"
      },
      "source": [
        "Predictions are made using the testing sets and assigned to variables accordingly."
      ]
    },
    {
      "cell_type": "code",
      "metadata": {
        "id": "nxw2V3FHM45B"
      },
      "source": [
        "y_pred = regr.predict(y_test.reshape(-1, 1))\r\n",
        "x_pred = regr.predict(x_test.reshape(-1, 1))\r\n"
      ],
      "execution_count": null,
      "outputs": []
    },
    {
      "cell_type": "markdown",
      "metadata": {
        "id": "Ro6OSJjN5z6P"
      },
      "source": [
        "I initialize variables to hold the regression coefficient and intercept and print out both variables."
      ]
    },
    {
      "cell_type": "code",
      "metadata": {
        "colab": {
          "base_uri": "https://localhost:8080/"
        },
        "id": "anQNyvjFylLR",
        "outputId": "80f76eeb-1be8-4f62-c1b1-c8496d27d3ef"
      },
      "source": [
        "coefficients = regr.coef_\r\n",
        "intercept = regr.intercept_\r\n",
        "print(coefficients)\r\n",
        "print(intercept)"
      ],
      "execution_count": null,
      "outputs": [
        {
          "output_type": "stream",
          "text": [
            "[[7.55085565]]\n",
            "[1498.09425099]\n"
          ],
          "name": "stdout"
        }
      ]
    },
    {
      "cell_type": "markdown",
      "metadata": {
        "id": "XjXyUFtS5_gC"
      },
      "source": [
        "Here I plot a scatter plot using the test variables, in addition, this includes a regression line, a linear line of best fit that goes through the data. The X and Y axis are labeled accordingly. The scatterplot below shows a huge positive correlation between the weight of a vehicle has and its displacement. This doesn't necessarily mean that the vehicle's weight directly causes its displacement to increase because correlation does not imply causation, but it does show that on average, heaver vehicles are associated with higher displacement. Based on viewing the graph, I can tell that the regression line is accurate in being a line of best fit."
      ]
    },
    {
      "cell_type": "code",
      "metadata": {
        "colab": {
          "base_uri": "https://localhost:8080/",
          "height": 296
        },
        "id": "1eHF7Y58NEI2",
        "outputId": "0503f015-f32a-4a49-d7a4-5c17ad859510"
      },
      "source": [
        "plt.scatter(x_test, y_test)\r\n",
        "y=coefficients*[0, 500]+intercept\r\n",
        "plt.plot([0, 500], y[0])\r\n",
        "plt.xlabel('displacement')\r\n",
        "plt.ylabel('weight')"
      ],
      "execution_count": null,
      "outputs": [
        {
          "output_type": "execute_result",
          "data": {
            "text/plain": [
              "Text(0, 0.5, 'weight')"
            ]
          },
          "metadata": {
            "tags": []
          },
          "execution_count": 157
        },
        {
          "output_type": "display_data",
          "data": {
            "image/png": "[encoded data removed]",
            "text/plain": [
              "<Figure size 432x288 with 1 Axes>"
            ]
          },
          "metadata": {
            "tags": [],
            "needs_background": "light"
          }
        }
      ]
    },
    {
      "cell_type": "markdown",
      "metadata": {
        "id": "Yn6JvUPICmaf"
      },
      "source": [
        "I was originally planning to use the same columns I used for the second linear regression of weight and displacement for the neural network."
      ]
    },
    {
      "cell_type": "code",
      "metadata": {
        "id": "STju6-fNy4VP"
      },
      "source": [
        "A = [None] * 398 \r\n",
        "B = [None] * 398 \r\n",
        "for i in range(0, 398):\r\n",
        "  A[i]=float(n[i][2])\r\n",
        "  B[i]=float(n[i][4])\r\n",
        "X = np.array(A)\r\n",
        "y = np.array(B)"
      ],
      "execution_count": null,
      "outputs": []
    },
    {
      "cell_type": "markdown",
      "metadata": {
        "id": "ev_ceHiT1N5U"
      },
      "source": [
        "This was the place where I was about to do the neural network part of the problem. Unfortunately, I ran into errors while transforming my data that I was unable to resolve and therefore I wasn't able to get that part working. I still included the code for the whole neural network program to give a sense of what I would have done if I was able to get it working. I succeeded in splitting the data set into training and test sets and splitting the training sets into smaller training sets with valid sets. However, as I was trying to apply feature scaling to the x sets, on the X_valid set, it ran into an error with the shape of the data set which I could not solve."
      ]
    },
    {
      "cell_type": "code",
      "metadata": {
        "colab": {
          "base_uri": "https://localhost:8080/",
          "height": 334
        },
        "id": "ArGC_AQny4oQ",
        "outputId": "004c58a8-5f64-49c4-ba0c-76c7bf462170"
      },
      "source": [
        "X_train_full, X_test, y_train_full, y_test = train_test_split(\r\n",
        " X, y)\r\n",
        "X_train, X_valid, y_train, y_valid = train_test_split(\r\n",
        " X_train_full, y_train_full)\r\n",
        "scaler = StandardScaler()\r\n",
        "X_train = scaler.fit_transform(X_train.reshape(1, -1))\r\n",
        "X_valid = scaler.transform(X_valid.reshape(-1, 1)) #this is the place where I ran into error, I couldn't fix the problem\r\n",
        "X_test = scaler.transform(X_test)"
      ],
      "execution_count": null,
      "outputs": [
        {
          "output_type": "error",
          "ename": "ValueError",
          "evalue": "ignored",
          "traceback": [
            "\u001b[0;31m---------------------------------------------------------------------------\u001b[0m",
            "\u001b[0;31mValueError\u001b[0m                                Traceback (most recent call last)",
            "\u001b[0;32m<ipython-input-159-61fea670655d>\u001b[0m in \u001b[0;36m<module>\u001b[0;34m()\u001b[0m\n\u001b[1;32m      5\u001b[0m \u001b[0mscaler\u001b[0m \u001b[0;34m=\u001b[0m \u001b[0mStandardScaler\u001b[0m\u001b[0;34m(\u001b[0m\u001b[0;34m)\u001b[0m\u001b[0;34m\u001b[0m\u001b[0;34m\u001b[0m\u001b[0m\n\u001b[1;32m      6\u001b[0m \u001b[0mX_train\u001b[0m \u001b[0;34m=\u001b[0m \u001b[0mscaler\u001b[0m\u001b[0;34m.\u001b[0m\u001b[0mfit_transform\u001b[0m\u001b[0;34m(\u001b[0m\u001b[0mX_train\u001b[0m\u001b[0;34m.\u001b[0m\u001b[0mreshape\u001b[0m\u001b[0;34m(\u001b[0m\u001b[0;36m1\u001b[0m\u001b[0;34m,\u001b[0m \u001b[0;34m-\u001b[0m\u001b[0;36m1\u001b[0m\u001b[0;34m)\u001b[0m\u001b[0;34m)\u001b[0m\u001b[0;34m\u001b[0m\u001b[0;34m\u001b[0m\u001b[0m\n\u001b[0;32m----> 7\u001b[0;31m \u001b[0mX_valid\u001b[0m \u001b[0;34m=\u001b[0m \u001b[0mscaler\u001b[0m\u001b[0;34m.\u001b[0m\u001b[0mtransform\u001b[0m\u001b[0;34m(\u001b[0m\u001b[0mX_valid\u001b[0m\u001b[0;34m.\u001b[0m\u001b[0mreshape\u001b[0m\u001b[0;34m(\u001b[0m\u001b[0;34m-\u001b[0m\u001b[0;36m1\u001b[0m\u001b[0;34m,\u001b[0m \u001b[0;36m1\u001b[0m\u001b[0;34m)\u001b[0m\u001b[0;34m)\u001b[0m \u001b[0;31m#this is the place where I ran into error, I couldn't fix the problem\u001b[0m\u001b[0;34m\u001b[0m\u001b[0;34m\u001b[0m\u001b[0m\n\u001b[0m\u001b[1;32m      8\u001b[0m \u001b[0mX_test\u001b[0m \u001b[0;34m=\u001b[0m \u001b[0mscaler\u001b[0m\u001b[0;34m.\u001b[0m\u001b[0mtransform\u001b[0m\u001b[0;34m(\u001b[0m\u001b[0mX_test\u001b[0m\u001b[0;34m)\u001b[0m\u001b[0;34m\u001b[0m\u001b[0;34m\u001b[0m\u001b[0m\n",
            "\u001b[0;32m/usr/local/lib/python3.6/dist-packages/sklearn/preprocessing/_data.py\u001b[0m in \u001b[0;36mtransform\u001b[0;34m(self, X, copy)\u001b[0m\n\u001b[1;32m    804\u001b[0m         \u001b[0;32melse\u001b[0m\u001b[0;34m:\u001b[0m\u001b[0;34m\u001b[0m\u001b[0;34m\u001b[0m\u001b[0m\n\u001b[1;32m    805\u001b[0m             \u001b[0;32mif\u001b[0m \u001b[0mself\u001b[0m\u001b[0;34m.\u001b[0m\u001b[0mwith_mean\u001b[0m\u001b[0;34m:\u001b[0m\u001b[0;34m\u001b[0m\u001b[0;34m\u001b[0m\u001b[0m\n\u001b[0;32m--> 806\u001b[0;31m                 \u001b[0mX\u001b[0m \u001b[0;34m-=\u001b[0m \u001b[0mself\u001b[0m\u001b[0;34m.\u001b[0m\u001b[0mmean_\u001b[0m\u001b[0;34m\u001b[0m\u001b[0;34m\u001b[0m\u001b[0m\n\u001b[0m\u001b[1;32m    807\u001b[0m             \u001b[0;32mif\u001b[0m \u001b[0mself\u001b[0m\u001b[0;34m.\u001b[0m\u001b[0mwith_std\u001b[0m\u001b[0;34m:\u001b[0m\u001b[0;34m\u001b[0m\u001b[0;34m\u001b[0m\u001b[0m\n\u001b[1;32m    808\u001b[0m                 \u001b[0mX\u001b[0m \u001b[0;34m/=\u001b[0m \u001b[0mself\u001b[0m\u001b[0;34m.\u001b[0m\u001b[0mscale_\u001b[0m\u001b[0;34m\u001b[0m\u001b[0;34m\u001b[0m\u001b[0m\n",
            "\u001b[0;31mValueError\u001b[0m: non-broadcastable output operand with shape (75,1) doesn't match the broadcast shape (75,223)"
          ]
        }
      ]
    },
    {
      "cell_type": "markdown",
      "metadata": {
        "id": "yJfymYsr18WK"
      },
      "source": [
        "Here I would've built a sequential API with two dense layers, one with 30 neurons and input shape of the X_train and the other with 1 neuron. I would then compile the model with a loss function of the mean squared error and look at the accuracy of it."
      ]
    },
    {
      "cell_type": "code",
      "metadata": {
        "id": "0CUD8rFwy5AA"
      },
      "source": [
        "model = keras.models.Sequential([\r\n",
        " keras.layers.Dense(30, activation=\"relu\", input_shape=X_train.shape[1:]),\r\n",
        " keras.layers.Dense(1)\r\n",
        "])\r\n",
        "model.compile(loss=\"mean_squared_error\", optimizer=\"sgd\")"
      ],
      "execution_count": null,
      "outputs": []
    }
  ]
}