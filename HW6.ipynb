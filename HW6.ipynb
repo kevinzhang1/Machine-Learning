{
  "nbformat": 4,
  "nbformat_minor": 0,
  "metadata": {
    "kernelspec": {
      "display_name": "Python 3",
      "language": "python",
      "name": "python3"
    },
    "language_info": {
      "codemirror_mode": {
        "name": "ipython",
        "version": 3
      },
      "file_extension": ".py",
      "mimetype": "text/x-python",
      "name": "python",
      "nbconvert_exporter": "python",
      "pygments_lexer": "ipython3",
      "version": "3.8.3"
    },
    "colab": {
      "name": "HW6.ipynb",
      "provenance": []
    }
  },
  "cells": [
    {
      "cell_type": "markdown",
      "metadata": {
        "id": "PFoZEKqbke26"
      },
      "source": [
        "# COMP4220: Machine Learning, Fall 2020, Assignment 6\n",
        "Due: Monday, Dec 07, 10pm \n",
        "\n",
        "Please submit one pdf file for all questions. \n",
        "\n",
        "\n",
        "****When turning in assignments after the due date, please clearly specify the number of late hours used."
      ]
    },
    {
      "cell_type": "markdown",
      "metadata": {
        "id": "DBR7--HEke3C"
      },
      "source": [
        "# P1. List five hyperparameters you can tweak in a basic neural network?"
      ]
    },
    {
      "cell_type": "markdown",
      "metadata": {
        "id": "VLfM81K0ke3D"
      },
      "source": [
        "Number of hidden layers, number of neurons, learning rate, number of units, and number of iterations.\n"
      ]
    },
    {
      "cell_type": "markdown",
      "metadata": {
        "id": "Ta7AjpcNke3D"
      },
      "source": [
        "# P2. What is backpropagation and how does it work?"
      ]
    },
    {
      "cell_type": "markdown",
      "metadata": {
        "id": "hinSeSk7QcCT"
      },
      "source": [
        "It is a training algorithm that was published in 1986 in a groundbreaking paper that uses an efficient technique for computing the gradient automatically for gradient descent. It requires one forward and one backward pass through the network, and it will be able to calculate the gradient of the network for every model parameter. Once it has calculated the gradients, it performs a regular gradient descent step, and repeat the process again until it reaches the solution."
      ]
    },
    {
      "cell_type": "markdown",
      "metadata": {
        "id": "Baj2fschke3D"
      },
      "source": [
        "\n",
        "# P3. Programming Assignment (Artificial Neural Network-ANN)\n",
        "The problem of classifying customers staying in the bank or leaving! Please download the Churn_Modelling dataset along with this homework!"
      ]
    },
    {
      "cell_type": "markdown",
      "metadata": {
        "id": "Ag2V7Fq2ke3D"
      },
      "source": [
        "# Part 1 - Data Preprocessing"
      ]
    },
    {
      "cell_type": "code",
      "metadata": {
        "id": "LPCa3I_Yke3D"
      },
      "source": [
        "# Importing the libraries\n",
        "import numpy as np\n",
        "import pandas as pd\n",
        "import tensorflow as tf"
      ],
      "execution_count": null,
      "outputs": []
    },
    {
      "cell_type": "code",
      "metadata": {
        "colab": {
          "base_uri": "https://localhost:8080/",
          "height": 36
        },
        "id": "uCZUJFNzke3E",
        "outputId": "5d7686b9-0ff7-44d8-aee6-432ee9e8ec9b"
      },
      "source": [
        "tf.__version__"
      ],
      "execution_count": null,
      "outputs": [
        {
          "output_type": "execute_result",
          "data": {
            "application/vnd.google.colaboratory.intrinsic+json": {
              "type": "string"
            },
            "text/plain": [
              "'2.3.0'"
            ]
          },
          "metadata": {
            "tags": []
          },
          "execution_count": 27
        }
      ]
    },
    {
      "cell_type": "code",
      "metadata": {
        "colab": {
          "resources": {
            "http://localhost:8080/nbextensions/google.colab/files.js": {
              "data": "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",
              "ok": true,
              "headers": [
                [
                  "content-type",
                  "application/javascript"
                ]
              ],
              "status": 200,
              "status_text": ""
            }
          },
          "base_uri": "https://localhost:8080/",
          "height": 215
        },
        "id": "l2qeyz3ske3H",
        "outputId": "5ea9edda-13b9-4e02-9c97-dbec16ed17c2"
      },
      "source": [
        "# Import the dataset\n",
        "import io\n",
        "from google.colab import files\n",
        "uploaded = files.upload()\n",
        "dataset=pd.read_csv(io.BytesIO(uploaded['Churn_Modelling.csv']))\n",
        "#dataset = pd.read_csv('Churn_Modelling.csv')\n",
        "# P3.1.1 Git rid of useless columns # strat from \"CreditScore\" column\n",
        "X = dataset.iloc[:, 3:13].values\n",
        "# P3.1.2 The last column \"Exited\" is our dependent variable\n",
        "y = dataset.iloc[:, 13].values\n",
        "print(X)\n",
        "print(y)"
      ],
      "execution_count": null,
      "outputs": [
        {
          "output_type": "display_data",
          "data": {
            "text/html": [
              "\n",
              "     <input type=\"file\" id=\"files-2843c78d-31ce-4aee-ae4e-d470bae1e8ef\" name=\"files[]\" multiple disabled\n",
              "        style=\"border:none\" />\n",
              "     <output id=\"result-2843c78d-31ce-4aee-ae4e-d470bae1e8ef\">\n",
              "      Upload widget is only available when the cell has been executed in the\n",
              "      current browser session. Please rerun this cell to enable.\n",
              "      </output>\n",
              "      <script src=\"/nbextensions/google.colab/files.js\"></script> "
            ],
            "text/plain": [
              "<IPython.core.display.HTML object>"
            ]
          },
          "metadata": {
            "tags": []
          }
        },
        {
          "output_type": "stream",
          "text": [
            "Saving Churn_Modelling.csv to Churn_Modelling (1).csv\n",
            "[[619 'France' 'Female' ... 1 1 101348.88]\n",
            " [608 'Spain' 'Female' ... 0 1 112542.58]\n",
            " [502 'France' 'Female' ... 1 0 113931.57]\n",
            " ...\n",
            " [709 'France' 'Female' ... 0 1 42085.58]\n",
            " [772 'Germany' 'Male' ... 1 0 92888.52]\n",
            " [792 'France' 'Female' ... 1 0 38190.78]]\n",
            "[1 0 1 ... 1 1 0]\n"
          ],
          "name": "stdout"
        }
      ]
    },
    {
      "cell_type": "code",
      "metadata": {
        "id": "dLGFzVbFke3H"
      },
      "source": [
        "# Encoding categorical data\n",
        "from sklearn.preprocessing import LabelEncoder, OneHotEncoder\n",
        "from sklearn.compose import ColumnTransformer\n",
        "encoder1=LabelEncoder()\n",
        "X[:, 1]=encoder1.fit_transform(X[:, 1])\n",
        "encoder2=LabelEncoder()\n",
        "X[:, 2]=encoder2.fit_transform(X[:, 2])\n",
        "c=ColumnTransformer([(\"category\", OneHotEncoder(), [1])], remainder='passthrough')\n",
        "X=c.fit_transform(X)\n",
        "X=X[:, 1:]"
      ],
      "execution_count": null,
      "outputs": []
    },
    {
      "cell_type": "code",
      "metadata": {
        "id": "8l4ccs1Kke3H"
      },
      "source": [
        "# P3.1.3 Split the dataset into the Training set and Test set (test_size = 0.2)\n",
        "from sklearn.model_selection import train_test_split\n",
        "X_train, X_test, y_train, y_test = train_test_split(X, y, test_size=0.2, random_state=0)"
      ],
      "execution_count": null,
      "outputs": []
    },
    {
      "cell_type": "code",
      "metadata": {
        "id": "vzAZZwpnke3H"
      },
      "source": [
        "# P3.1.4 Apply Feature Scaling to all features before training a neural network\n",
        "from sklearn.preprocessing import StandardScaler\n",
        "s=StandardScaler()\n",
        "X_train = s.fit_transform(X_train)\n",
        "\n",
        "X_test = s.transform(X_test)\n",
        "\n"
      ],
      "execution_count": null,
      "outputs": []
    },
    {
      "cell_type": "markdown",
      "metadata": {
        "id": "mcPAx93Xke3H"
      },
      "source": [
        "# Part 2 - Now let's make the ANN!"
      ]
    },
    {
      "cell_type": "code",
      "metadata": {
        "id": "dASij1heke3H"
      },
      "source": [
        "# Importing the Keras libraries and packages\n",
        "import keras\n",
        "from keras.models import Sequential\n",
        "from keras.layers import Dense"
      ],
      "execution_count": null,
      "outputs": []
    },
    {
      "cell_type": "code",
      "metadata": {
        "id": "jBFd3leJke3H"
      },
      "source": [
        "# Initialising the ANN\n",
        "classifier=tf.keras.models.Sequential()"
      ],
      "execution_count": null,
      "outputs": []
    },
    {
      "cell_type": "code",
      "metadata": {
        "id": "5OgGgRtgke3H"
      },
      "source": [
        "# P3.2.1 Add the input layer and the first hidden layer using \n",
        "# (units = 6, kernel_initializer = 'uniform', activation = 'relu', input_dim = 11)\n",
        "classifier.add(Dense(units=6, kernel_initializer='uniform', activation='relu', input_dim=11))\n"
      ],
      "execution_count": null,
      "outputs": []
    },
    {
      "cell_type": "code",
      "metadata": {
        "id": "3mUI4lYpke3H"
      },
      "source": [
        "# P3.2.2 Add the second hidden layer\n",
        "# (units = 6, kernel_initializer = 'uniform', activation = 'relu')\n",
        "classifier.add(Dense(units=6, kernel_initializer='uniform', activation='relu'))\n"
      ],
      "execution_count": null,
      "outputs": []
    },
    {
      "cell_type": "code",
      "metadata": {
        "id": "fZmx2BLLke3H"
      },
      "source": [
        "#P3.2.3 Add the output layer\n",
        "# (units = 1, kernel_initializer = 'uniform', activation = 'sigmoid')\n",
        "classifier.add(Dense(units=1, kernel_initializer='uniform', activation='sigmoid'))\n"
      ],
      "execution_count": null,
      "outputs": []
    },
    {
      "cell_type": "code",
      "metadata": {
        "id": "xlzomkTOke3H"
      },
      "source": [
        "# P3.2.4 Compile the ANN\n",
        "# (optimizer = 'adam', loss = 'binary_crossentropy', metrics = ['accuracy'])\n",
        "classifier.compile(optimizer='adam', loss='binary_crossentropy', metrics=['accuracy'])\n"
      ],
      "execution_count": null,
      "outputs": []
    },
    {
      "cell_type": "code",
      "metadata": {
        "colab": {
          "base_uri": "https://localhost:8080/"
        },
        "id": "qlTtEm2mke3I",
        "outputId": "7ec4a9dc-a1c5-4a5a-87a0-681bb36c793d"
      },
      "source": [
        "# P3.2.5 Train the ANN to the Training set using (batch_size = 10, epochs = 100)\n",
        "classifier.fit(X_train, y_train, batch_size=10, epochs=100)"
      ],
      "execution_count": null,
      "outputs": [
        {
          "output_type": "stream",
          "text": [
            "Epoch 1/100\n",
            "800/800 [==============================] - 1s 961us/step - loss: 0.4757 - accuracy: 0.7956\n",
            "Epoch 2/100\n",
            "800/800 [==============================] - 1s 948us/step - loss: 0.4266 - accuracy: 0.7960\n",
            "Epoch 3/100\n",
            "800/800 [==============================] - 1s 963us/step - loss: 0.4211 - accuracy: 0.8049\n",
            "Epoch 4/100\n",
            "800/800 [==============================] - 1s 1ms/step - loss: 0.4182 - accuracy: 0.8235\n",
            "Epoch 5/100\n",
            "800/800 [==============================] - 1s 972us/step - loss: 0.4159 - accuracy: 0.8260\n",
            "Epoch 6/100\n",
            "800/800 [==============================] - 1s 986us/step - loss: 0.4140 - accuracy: 0.8299\n",
            "Epoch 7/100\n",
            "800/800 [==============================] - 1s 998us/step - loss: 0.4127 - accuracy: 0.8309\n",
            "Epoch 8/100\n",
            "800/800 [==============================] - 1s 1ms/step - loss: 0.4117 - accuracy: 0.8332\n",
            "Epoch 9/100\n",
            "800/800 [==============================] - 1s 978us/step - loss: 0.4106 - accuracy: 0.8335\n",
            "Epoch 10/100\n",
            "800/800 [==============================] - 1s 984us/step - loss: 0.4101 - accuracy: 0.8330\n",
            "Epoch 11/100\n",
            "800/800 [==============================] - 1s 1ms/step - loss: 0.4086 - accuracy: 0.8342\n",
            "Epoch 12/100\n",
            "800/800 [==============================] - 1s 1ms/step - loss: 0.4082 - accuracy: 0.8336\n",
            "Epoch 13/100\n",
            "800/800 [==============================] - 1s 987us/step - loss: 0.4077 - accuracy: 0.8331\n",
            "Epoch 14/100\n",
            "800/800 [==============================] - 1s 988us/step - loss: 0.4071 - accuracy: 0.8330\n",
            "Epoch 15/100\n",
            "800/800 [==============================] - 1s 1ms/step - loss: 0.4067 - accuracy: 0.8340\n",
            "Epoch 16/100\n",
            "800/800 [==============================] - 1s 980us/step - loss: 0.4062 - accuracy: 0.8354\n",
            "Epoch 17/100\n",
            "800/800 [==============================] - 1s 969us/step - loss: 0.4057 - accuracy: 0.8354\n",
            "Epoch 18/100\n",
            "800/800 [==============================] - 1s 979us/step - loss: 0.4055 - accuracy: 0.8359\n",
            "Epoch 19/100\n",
            "800/800 [==============================] - 1s 982us/step - loss: 0.4048 - accuracy: 0.8353\n",
            "Epoch 20/100\n",
            "800/800 [==============================] - 1s 966us/step - loss: 0.4051 - accuracy: 0.8345\n",
            "Epoch 21/100\n",
            "800/800 [==============================] - 1s 1ms/step - loss: 0.4049 - accuracy: 0.8356\n",
            "Epoch 22/100\n",
            "800/800 [==============================] - 1s 1000us/step - loss: 0.4047 - accuracy: 0.8341\n",
            "Epoch 23/100\n",
            "800/800 [==============================] - 1s 963us/step - loss: 0.4043 - accuracy: 0.8341\n",
            "Epoch 24/100\n",
            "800/800 [==============================] - 1s 976us/step - loss: 0.4041 - accuracy: 0.8350\n",
            "Epoch 25/100\n",
            "800/800 [==============================] - 1s 976us/step - loss: 0.4039 - accuracy: 0.8329\n",
            "Epoch 26/100\n",
            "800/800 [==============================] - 1s 1ms/step - loss: 0.4039 - accuracy: 0.8350\n",
            "Epoch 27/100\n",
            "800/800 [==============================] - 1s 1ms/step - loss: 0.4039 - accuracy: 0.8347\n",
            "Epoch 28/100\n",
            "800/800 [==============================] - 1s 1ms/step - loss: 0.4037 - accuracy: 0.8360\n",
            "Epoch 29/100\n",
            "800/800 [==============================] - 1s 1ms/step - loss: 0.4037 - accuracy: 0.8354\n",
            "Epoch 30/100\n",
            "800/800 [==============================] - 1s 988us/step - loss: 0.4033 - accuracy: 0.8351\n",
            "Epoch 31/100\n",
            "800/800 [==============================] - 1s 970us/step - loss: 0.4032 - accuracy: 0.8347\n",
            "Epoch 32/100\n",
            "800/800 [==============================] - 1s 1ms/step - loss: 0.4037 - accuracy: 0.8353\n",
            "Epoch 33/100\n",
            "800/800 [==============================] - 1s 1ms/step - loss: 0.4034 - accuracy: 0.8340\n",
            "Epoch 34/100\n",
            "800/800 [==============================] - 1s 1ms/step - loss: 0.4030 - accuracy: 0.8355\n",
            "Epoch 35/100\n",
            "800/800 [==============================] - 1s 1ms/step - loss: 0.4030 - accuracy: 0.8341\n",
            "Epoch 36/100\n",
            "800/800 [==============================] - 1s 980us/step - loss: 0.4030 - accuracy: 0.8346\n",
            "Epoch 37/100\n",
            "800/800 [==============================] - 1s 993us/step - loss: 0.4025 - accuracy: 0.8330\n",
            "Epoch 38/100\n",
            "800/800 [==============================] - 1s 1ms/step - loss: 0.4029 - accuracy: 0.8328\n",
            "Epoch 39/100\n",
            "800/800 [==============================] - 1s 1ms/step - loss: 0.4021 - accuracy: 0.8332\n",
            "Epoch 40/100\n",
            "800/800 [==============================] - 1s 962us/step - loss: 0.4031 - accuracy: 0.8345\n",
            "Epoch 41/100\n",
            "800/800 [==============================] - 1s 968us/step - loss: 0.4028 - accuracy: 0.8332\n",
            "Epoch 42/100\n",
            "800/800 [==============================] - 1s 984us/step - loss: 0.4023 - accuracy: 0.8332\n",
            "Epoch 43/100\n",
            "800/800 [==============================] - 1s 983us/step - loss: 0.4025 - accuracy: 0.8346\n",
            "Epoch 44/100\n",
            "800/800 [==============================] - 1s 1ms/step - loss: 0.4025 - accuracy: 0.8332\n",
            "Epoch 45/100\n",
            "800/800 [==============================] - 1s 993us/step - loss: 0.4023 - accuracy: 0.8330\n",
            "Epoch 46/100\n",
            "800/800 [==============================] - 1s 977us/step - loss: 0.4025 - accuracy: 0.8345\n",
            "Epoch 47/100\n",
            "800/800 [==============================] - 1s 977us/step - loss: 0.4021 - accuracy: 0.8334\n",
            "Epoch 48/100\n",
            "800/800 [==============================] - 1s 986us/step - loss: 0.4019 - accuracy: 0.8339\n",
            "Epoch 49/100\n",
            "800/800 [==============================] - 1s 1000us/step - loss: 0.4021 - accuracy: 0.8346\n",
            "Epoch 50/100\n",
            "800/800 [==============================] - 1s 994us/step - loss: 0.4024 - accuracy: 0.8346\n",
            "Epoch 51/100\n",
            "800/800 [==============================] - 1s 996us/step - loss: 0.4023 - accuracy: 0.8338\n",
            "Epoch 52/100\n",
            "800/800 [==============================] - 1s 995us/step - loss: 0.4017 - accuracy: 0.8325\n",
            "Epoch 53/100\n",
            "800/800 [==============================] - 1s 995us/step - loss: 0.4014 - accuracy: 0.8341\n",
            "Epoch 54/100\n",
            "800/800 [==============================] - 1s 1000us/step - loss: 0.4019 - accuracy: 0.8344\n",
            "Epoch 55/100\n",
            "800/800 [==============================] - 1s 992us/step - loss: 0.4017 - accuracy: 0.8342\n",
            "Epoch 56/100\n",
            "800/800 [==============================] - 1s 1ms/step - loss: 0.4020 - accuracy: 0.8336\n",
            "Epoch 57/100\n",
            "800/800 [==============================] - 1s 983us/step - loss: 0.4017 - accuracy: 0.8325\n",
            "Epoch 58/100\n",
            "800/800 [==============================] - 1s 1ms/step - loss: 0.4019 - accuracy: 0.8332\n",
            "Epoch 59/100\n",
            "800/800 [==============================] - 1s 1ms/step - loss: 0.4018 - accuracy: 0.8341\n",
            "Epoch 60/100\n",
            "800/800 [==============================] - 1s 984us/step - loss: 0.4019 - accuracy: 0.8349\n",
            "Epoch 61/100\n",
            "800/800 [==============================] - 1s 1ms/step - loss: 0.4016 - accuracy: 0.8336\n",
            "Epoch 62/100\n",
            "800/800 [==============================] - 1s 980us/step - loss: 0.4018 - accuracy: 0.8336\n",
            "Epoch 63/100\n",
            "800/800 [==============================] - 1s 1ms/step - loss: 0.4012 - accuracy: 0.8355\n",
            "Epoch 64/100\n",
            "800/800 [==============================] - 1s 1ms/step - loss: 0.4017 - accuracy: 0.8330\n",
            "Epoch 65/100\n",
            "800/800 [==============================] - 1s 1ms/step - loss: 0.4019 - accuracy: 0.8339\n",
            "Epoch 66/100\n",
            "800/800 [==============================] - 1s 1ms/step - loss: 0.4012 - accuracy: 0.8344\n",
            "Epoch 67/100\n",
            "800/800 [==============================] - 1s 995us/step - loss: 0.4015 - accuracy: 0.8341\n",
            "Epoch 68/100\n",
            "800/800 [==============================] - 1s 988us/step - loss: 0.4023 - accuracy: 0.8342\n",
            "Epoch 69/100\n",
            "800/800 [==============================] - 1s 1ms/step - loss: 0.4011 - accuracy: 0.8347\n",
            "Epoch 70/100\n",
            "800/800 [==============================] - 1s 1ms/step - loss: 0.4016 - accuracy: 0.8335\n",
            "Epoch 71/100\n",
            "800/800 [==============================] - 1s 975us/step - loss: 0.4022 - accuracy: 0.8353\n",
            "Epoch 72/100\n",
            "800/800 [==============================] - 1s 1ms/step - loss: 0.4009 - accuracy: 0.8340\n",
            "Epoch 73/100\n",
            "800/800 [==============================] - 1s 982us/step - loss: 0.4011 - accuracy: 0.8332\n",
            "Epoch 74/100\n",
            "800/800 [==============================] - 1s 1ms/step - loss: 0.4012 - accuracy: 0.8359\n",
            "Epoch 75/100\n",
            "800/800 [==============================] - 1s 1ms/step - loss: 0.4019 - accuracy: 0.8338\n",
            "Epoch 76/100\n",
            "800/800 [==============================] - 1s 1ms/step - loss: 0.4011 - accuracy: 0.8357\n",
            "Epoch 77/100\n",
            "800/800 [==============================] - 1s 994us/step - loss: 0.4013 - accuracy: 0.8347\n",
            "Epoch 78/100\n",
            "800/800 [==============================] - 1s 1ms/step - loss: 0.4016 - accuracy: 0.8342\n",
            "Epoch 79/100\n",
            "800/800 [==============================] - 1s 1ms/step - loss: 0.4022 - accuracy: 0.8341\n",
            "Epoch 80/100\n",
            "800/800 [==============================] - 1s 972us/step - loss: 0.4015 - accuracy: 0.8346\n",
            "Epoch 81/100\n",
            "800/800 [==============================] - 1s 1ms/step - loss: 0.4019 - accuracy: 0.8347\n",
            "Epoch 82/100\n",
            "800/800 [==============================] - 1s 1ms/step - loss: 0.4013 - accuracy: 0.8349\n",
            "Epoch 83/100\n",
            "800/800 [==============================] - 1s 992us/step - loss: 0.4016 - accuracy: 0.8350\n",
            "Epoch 84/100\n",
            "800/800 [==============================] - 1s 980us/step - loss: 0.4017 - accuracy: 0.8342\n",
            "Epoch 85/100\n",
            "800/800 [==============================] - 1s 1ms/step - loss: 0.4017 - accuracy: 0.8341\n",
            "Epoch 86/100\n",
            "800/800 [==============================] - 1s 990us/step - loss: 0.4013 - accuracy: 0.8331\n",
            "Epoch 87/100\n",
            "800/800 [==============================] - 1s 988us/step - loss: 0.4018 - accuracy: 0.8338\n",
            "Epoch 88/100\n",
            "800/800 [==============================] - 1s 980us/step - loss: 0.4016 - accuracy: 0.8326\n",
            "Epoch 89/100\n",
            "800/800 [==============================] - 1s 992us/step - loss: 0.4013 - accuracy: 0.8342\n",
            "Epoch 90/100\n",
            "800/800 [==============================] - 1s 1000us/step - loss: 0.4015 - accuracy: 0.8356\n",
            "Epoch 91/100\n",
            "800/800 [==============================] - 1s 1ms/step - loss: 0.4013 - accuracy: 0.8328\n",
            "Epoch 92/100\n",
            "800/800 [==============================] - 1s 1ms/step - loss: 0.4018 - accuracy: 0.8341\n",
            "Epoch 93/100\n",
            "800/800 [==============================] - 1s 991us/step - loss: 0.4012 - accuracy: 0.8338\n",
            "Epoch 94/100\n",
            "800/800 [==============================] - 1s 988us/step - loss: 0.4009 - accuracy: 0.8331\n",
            "Epoch 95/100\n",
            "800/800 [==============================] - 1s 1ms/step - loss: 0.4015 - accuracy: 0.8344\n",
            "Epoch 96/100\n",
            "800/800 [==============================] - 1s 1ms/step - loss: 0.4010 - accuracy: 0.8340\n",
            "Epoch 97/100\n",
            "800/800 [==============================] - 1s 1ms/step - loss: 0.4014 - accuracy: 0.8338\n",
            "Epoch 98/100\n",
            "800/800 [==============================] - 1s 1ms/step - loss: 0.4011 - accuracy: 0.8336\n",
            "Epoch 99/100\n",
            "800/800 [==============================] - 1s 987us/step - loss: 0.4017 - accuracy: 0.8342\n",
            "Epoch 100/100\n",
            "800/800 [==============================] - 1s 1ms/step - loss: 0.4012 - accuracy: 0.8347\n"
          ],
          "name": "stdout"
        },
        {
          "output_type": "execute_result",
          "data": {
            "text/plain": [
              "<tensorflow.python.keras.callbacks.History at 0x7f3092950208>"
            ]
          },
          "metadata": {
            "tags": []
          },
          "execution_count": 38
        }
      ]
    },
    {
      "cell_type": "markdown",
      "metadata": {
        "id": "IaZ9tMooke3I"
      },
      "source": [
        "# Part 3 - Making the predictions and evaluating the model\n"
      ]
    },
    {
      "cell_type": "code",
      "metadata": {
        "id": "crVRwZnwke3I"
      },
      "source": [
        "# Predict the Test set results\n",
        "# Treshold of predicted probability= 0.5\n",
        "y_pred=classifier.predict(X_test)\n",
        "y_pred=(y_pred>0.5)\n"
      ],
      "execution_count": null,
      "outputs": []
    },
    {
      "cell_type": "code",
      "metadata": {
        "colab": {
          "base_uri": "https://localhost:8080/"
        },
        "id": "OjrcoBr6ke3I",
        "outputId": "bac024a4-164c-4ef2-f11b-0f772cb7d8a6"
      },
      "source": [
        "# P3.3.1 Make the Confusion Matrix and show the reult\n",
        "from sklearn.metrics import confusion_matrix\n",
        "m=confusion_matrix(y_test, y_pred)\n",
        "print(m)"
      ],
      "execution_count": null,
      "outputs": [
        {
          "output_type": "stream",
          "text": [
            "[[1551   44]\n",
            " [ 271  134]]\n"
          ],
          "name": "stdout"
        }
      ]
    },
    {
      "cell_type": "markdown",
      "metadata": {
        "id": "JJZ_z_cFke3I"
      },
      "source": [
        "# P4. Train a deep MLP on the MNIST dataset (you can load it using keras.datasets.mnist.load_data(). See if you can get over 98% precision. Try searching for the optimal learning rate by using the approach presented in chapter 10 (i.e., by growing the learning rate exponentially, plotting the loss, and finding the point where the loss shoots up). Try adding all the bells and whistles—save checkpoints, use early stopping, and plot learning curves using TensorBoard."
      ]
    },
    {
      "cell_type": "code",
      "metadata": {
        "id": "t_58rReAke3I"
      },
      "source": [
        "(x_, y_), (x_test, y_test) = keras.datasets.mnist.load_data()"
      ],
      "execution_count": null,
      "outputs": []
    },
    {
      "cell_type": "code",
      "metadata": {
        "id": "pyM8P46dG1oJ"
      },
      "source": [
        "import os\n",
        "model = keras.models.Sequential([keras.layers.Flatten(input_shape=[28,28]), keras.layers.Dense(300, activation='relu', name=\"h1\"), keras.layers.Dense(100, activation='relu', name='h2' ), keras.layers.Dense(10, activation='softmax', name='o')])\n",
        "model.compile(optimizer=keras.optimizers.SGD(lr=1e-7), metrics=['accuracy'])\n",
        "model.compile(optimizer=keras.optimizers.SGD(lr=1e-6), metrics=['accuracy'])\n",
        "model.compile(optimizer=keras.optimizers.SGD(lr=1e-5), metrics=['accuracy'])\n",
        "model.compile(optimizer=keras.optimizers.SGD(lr=1e-4), metrics=['accuracy'])\n",
        "model.compile(optimizer=keras.optimizers.SGD(lr=1e-3), metrics=['accuracy'])\n",
        "model.compile(optimizer=keras.optimizers.SGD(lr=1e-2), metrics=['accuracy'])\n",
        "model.compile(optimizer=keras.optimizers.SGD(lr=2e-1), metrics=['accuracy'])\n",
        "cb=keras.callbacks.EarlyStopping(patience=20)\n",
        "cp=keras.callbacks.ModelCheckpoint(\"my_mnist_model.h5\")\n",
        "t=keras.callbacks.TensorBoard(os.path.join( os.curdir, \"l\", \"run{:04}\".format(1)))"
      ],
      "execution_count": null,
      "outputs": []
    },
    {
      "cell_type": "code",
      "metadata": {
        "colab": {
          "base_uri": "https://localhost:8080/"
        },
        "id": "V3LKKc3UHw_3",
        "outputId": "3a5ebe8f-483c-4076-dfb9-12b2b98e67ad"
      },
      "source": [
        "model = keras.models.load_model(\"my_mnist_model.h5\")\n",
        "model.evaluate(x_test/255, y_test)"
      ],
      "execution_count": null,
      "outputs": [
        {
          "output_type": "stream",
          "text": [
            "313/313 [==============================] - 0s 1ms/step - loss: 0.0623 - accuracy: 0.0979\n"
          ],
          "name": "stdout"
        },
        {
          "output_type": "execute_result",
          "data": {
            "text/plain": [
              "[0.06233932450413704, 0.09790000319480896]"
            ]
          },
          "metadata": {
            "tags": []
          },
          "execution_count": 144
        }
      ]
    }
  ]
}